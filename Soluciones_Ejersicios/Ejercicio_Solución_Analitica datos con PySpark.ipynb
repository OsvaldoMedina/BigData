{
 "cells": [
  {
   "cell_type": "markdown",
   "metadata": {},
   "source": [
    "# Ejercicio_Analítica Avanzada de datos con PySpark"
   ]
  },
  {
   "cell_type": "code",
   "execution_count": 1,
   "metadata": {},
   "outputs": [],
   "source": [
    "import findspark\n",
    "findspark.init()\n",
    "\n",
    "import pandas as pd\n",
    "import pyspark"
   ]
  },
  {
   "cell_type": "code",
   "execution_count": 2,
   "metadata": {
    "id": "z5elOd3_urwh"
   },
   "outputs": [],
   "source": [
    "from pyspark.sql import functions as f\n",
    "import pandas as pd\n",
    "import seaborn as sns\n",
    "import matplotlib.pyplot as plt\n",
    "\n",
    "%matplotlib inline"
   ]
  },
  {
   "cell_type": "code",
   "execution_count": 3,
   "metadata": {
    "id": "nZXXfyQ_oFfx"
   },
   "outputs": [],
   "source": [
    "from pyspark.sql import SparkSession\n",
    "\n",
    "spark = SparkSession.builder\\\n",
    "        .master(\"local[*]\")\\\n",
    "        .appName('PySpark_Tutorial')\\\n",
    "        .getOrCreate()"
   ]
  },
  {
   "cell_type": "code",
   "execution_count": 4,
   "metadata": {
    "id": "dGT7jy3DDuLz"
   },
   "outputs": [],
   "source": [
    "from pyspark.sql.types import *\n",
    "\n",
    "data_schema = [\n",
    "               StructField('_c0', IntegerType(), True),\n",
    "               StructField('symbol', StringType(), True),\n",
    "               StructField('data', DateType(), True),\n",
    "               StructField('open', DoubleType(), True),\n",
    "               StructField('high', DoubleType(), True),\n",
    "               StructField('low', DoubleType(), True),\n",
    "               StructField('close', DoubleType(), True),\n",
    "               StructField('volume', IntegerType(), True),\n",
    "               StructField('adjusted', DoubleType(), True),\n",
    "               StructField('market.cap', StringType(), True),\n",
    "               StructField('sector', StringType(), True),\n",
    "               StructField('industry', StringType(), True),\n",
    "               StructField('exchange', StringType(), True),\n",
    "            ]\n",
    "\n",
    "final_struc = StructType(fields=data_schema)"
   ]
  },
  {
   "cell_type": "code",
   "execution_count": 5,
   "metadata": {
    "id": "WAThgJoIvcKI"
   },
   "outputs": [],
   "source": [
    "data = spark.read.csv(\n",
    "    'data/stocks_price_final.csv',\n",
    "    sep = ',',\n",
    "    header = True,\n",
    "    schema = final_struc\n",
    "    )"
   ]
  },
  {
   "cell_type": "code",
   "execution_count": 6,
   "metadata": {
    "colab": {
     "base_uri": "https://localhost:8080/",
     "height": 269
    },
    "id": "NCFGHCsUyamR",
    "outputId": "d74d286c-fe98-40b3-8576-64a71630c0c9"
   },
   "outputs": [
    {
     "name": "stdout",
     "output_type": "stream",
     "text": [
      "root\n",
      " |-- _c0: integer (nullable = true)\n",
      " |-- symbol: string (nullable = true)\n",
      " |-- data: date (nullable = true)\n",
      " |-- open: double (nullable = true)\n",
      " |-- high: double (nullable = true)\n",
      " |-- low: double (nullable = true)\n",
      " |-- close: double (nullable = true)\n",
      " |-- volume: integer (nullable = true)\n",
      " |-- adjusted: double (nullable = true)\n",
      " |-- market.cap: string (nullable = true)\n",
      " |-- sector: string (nullable = true)\n",
      " |-- industry: string (nullable = true)\n",
      " |-- exchange: string (nullable = true)\n",
      "\n"
     ]
    }
   ],
   "source": [
    "data.printSchema()"
   ]
  },
  {
   "cell_type": "code",
   "execution_count": 7,
   "metadata": {},
   "outputs": [],
   "source": [
    "data = data.drop('market.cap')"
   ]
  },
  {
   "cell_type": "code",
   "execution_count": 8,
   "metadata": {},
   "outputs": [
    {
     "name": "stdout",
     "output_type": "stream",
     "text": [
      "+----+------+----------+----+----+----+-----+------+--------+-------------+--------------------+--------+\n",
      "| _c0|symbol|      data|open|high| low|close|volume|adjusted|       sector|            industry|exchange|\n",
      "+----+------+----------+----+----+----+-----+------+--------+-------------+--------------------+--------+\n",
      "|4378|  KRKR|2020-05-11|null|null|null| null|  null|    null|Miscellaneous|   Business Services|  NASDAQ|\n",
      "|5747|  NMTR|2020-01-23|null|null|null| null|  null|    null|  Health Care|Major Pharmaceuti...|  NASDAQ|\n",
      "|5748|  NMTR|2020-01-24|null|null|null| null|  null|    null|  Health Care|Major Pharmaceuti...|  NASDAQ|\n",
      "|5749|  NMTR|2020-01-27|null|null|null| null|  null|    null|  Health Care|Major Pharmaceuti...|  NASDAQ|\n",
      "|5750|  NMTR|2020-01-28|null|null|null| null|  null|    null|  Health Care|Major Pharmaceuti...|  NASDAQ|\n",
      "|5751|  NMTR|2020-01-29|null|null|null| null|  null|    null|  Health Care|Major Pharmaceuti...|  NASDAQ|\n",
      "|5752|  NMTR|2020-01-30|null|null|null| null|  null|    null|  Health Care|Major Pharmaceuti...|  NASDAQ|\n",
      "|5753|  NMTR|2020-01-31|null|null|null| null|  null|    null|  Health Care|Major Pharmaceuti...|  NASDAQ|\n",
      "|5754|  NMTR|2020-02-03|null|null|null| null|  null|    null|  Health Care|Major Pharmaceuti...|  NASDAQ|\n",
      "|5755|  NMTR|2020-02-04|null|null|null| null|  null|    null|  Health Care|Major Pharmaceuti...|  NASDAQ|\n",
      "|5756|  NMTR|2020-02-05|null|null|null| null|  null|    null|  Health Care|Major Pharmaceuti...|  NASDAQ|\n",
      "|5757|  NMTR|2020-02-06|null|null|null| null|  null|    null|  Health Care|Major Pharmaceuti...|  NASDAQ|\n",
      "|5758|  NMTR|2020-02-07|null|null|null| null|  null|    null|  Health Care|Major Pharmaceuti...|  NASDAQ|\n",
      "|5759|  NMTR|2020-02-10|null|null|null| null|  null|    null|  Health Care|Major Pharmaceuti...|  NASDAQ|\n",
      "|5760|  NMTR|2020-02-11|null|null|null| null|  null|    null|  Health Care|Major Pharmaceuti...|  NASDAQ|\n",
      "|5761|  NMTR|2020-02-12|null|null|null| null|  null|    null|  Health Care|Major Pharmaceuti...|  NASDAQ|\n",
      "|5762|  NMTR|2020-02-13|null|null|null| null|  null|    null|  Health Care|Major Pharmaceuti...|  NASDAQ|\n",
      "|5763|  NMTR|2020-02-14|null|null|null| null|  null|    null|  Health Care|Major Pharmaceuti...|  NASDAQ|\n",
      "|5764|  NMTR|2020-02-18|null|null|null| null|  null|    null|  Health Care|Major Pharmaceuti...|  NASDAQ|\n",
      "|5765|  NMTR|2020-02-19|null|null|null| null|  null|    null|  Health Care|Major Pharmaceuti...|  NASDAQ|\n",
      "+----+------+----------+----+----+----+-----+------+--------+-------------+--------------------+--------+\n",
      "only showing top 20 rows\n",
      "\n"
     ]
    }
   ],
   "source": [
    "data.filter(\"open is null\").show()"
   ]
  },
  {
   "cell_type": "code",
   "execution_count": 9,
   "metadata": {},
   "outputs": [
    {
     "data": {
      "text/plain": [
       "DataFrame[_c0: int, symbol: string, data: date, open: double, high: double, low: double, close: double, volume: int, adjusted: double, sector: string, industry: string, exchange: string]"
      ]
     },
     "execution_count": 9,
     "metadata": {},
     "output_type": "execute_result"
    }
   ],
   "source": [
    "data.na.drop()"
   ]
  },
  {
   "cell_type": "code",
   "execution_count": 10,
   "metadata": {},
   "outputs": [],
   "source": [
    "from pyspark.sql.functions import col, min, max, avg, lit\n",
    "\n",
    "data_transf = data.groupBy(\"sector\") \\\n",
    "    .agg(min(\"data\").alias(\"From\"), \n",
    "         max(\"data\").alias(\"To\"), \n",
    "         \n",
    "         min(\"open\").alias(\"Minimum Opening\"),\n",
    "         max(\"open\").alias(\"Maximum Opening\"), \n",
    "\n",
    "         min(\"close\").alias(\"Minimum Closing\"), \n",
    "         max(\"close\").alias(\"Maximum Closing\"),  \n",
    "\n",
    "         min(\"adjusted\").alias(\"Minimum Adjusted Closing\"), \n",
    "         max(\"adjusted\").alias(\"Maximum Adjusted Closing\"), \n",
    "\n",
    "      )"
   ]
  },
  {
   "cell_type": "code",
   "execution_count": 11,
   "metadata": {},
   "outputs": [
    {
     "data": {
      "text/html": [
       "<div>\n",
       "<style scoped>\n",
       "    .dataframe tbody tr th:only-of-type {\n",
       "        vertical-align: middle;\n",
       "    }\n",
       "\n",
       "    .dataframe tbody tr th {\n",
       "        vertical-align: top;\n",
       "    }\n",
       "\n",
       "    .dataframe thead th {\n",
       "        text-align: right;\n",
       "    }\n",
       "</style>\n",
       "<table border=\"1\" class=\"dataframe\">\n",
       "  <thead>\n",
       "    <tr style=\"text-align: right;\">\n",
       "      <th></th>\n",
       "      <th>sector</th>\n",
       "      <th>From</th>\n",
       "      <th>To</th>\n",
       "      <th>Minimum Opening</th>\n",
       "      <th>Maximum Opening</th>\n",
       "      <th>Minimum Closing</th>\n",
       "      <th>Maximum Closing</th>\n",
       "      <th>Minimum Adjusted Closing</th>\n",
       "      <th>Maximum Adjusted Closing</th>\n",
       "    </tr>\n",
       "  </thead>\n",
       "  <tbody>\n",
       "    <tr>\n",
       "      <th>0</th>\n",
       "      <td>Miscellaneous</td>\n",
       "      <td>2019-01-02</td>\n",
       "      <td>2020-07-22</td>\n",
       "      <td>0.147</td>\n",
       "      <td>1.059990e+03</td>\n",
       "      <td>0.1361</td>\n",
       "      <td>1.035830e+03</td>\n",
       "      <td>0.136100</td>\n",
       "      <td>1.035830e+03</td>\n",
       "    </tr>\n",
       "    <tr>\n",
       "      <th>1</th>\n",
       "      <td>Health Care</td>\n",
       "      <td>2019-01-02</td>\n",
       "      <td>2020-07-22</td>\n",
       "      <td>0.072</td>\n",
       "      <td>1.860000e+05</td>\n",
       "      <td>0.0710</td>\n",
       "      <td>1.870000e+05</td>\n",
       "      <td>0.071000</td>\n",
       "      <td>1.870000e+05</td>\n",
       "    </tr>\n",
       "    <tr>\n",
       "      <th>2</th>\n",
       "      <td>Public Utilities</td>\n",
       "      <td>2019-01-02</td>\n",
       "      <td>2020-07-22</td>\n",
       "      <td>0.331</td>\n",
       "      <td>2.800000e+02</td>\n",
       "      <td>0.3250</td>\n",
       "      <td>2.822200e+02</td>\n",
       "      <td>0.325000</td>\n",
       "      <td>2.806739e+02</td>\n",
       "    </tr>\n",
       "    <tr>\n",
       "      <th>3</th>\n",
       "      <td>Energy</td>\n",
       "      <td>2019-01-02</td>\n",
       "      <td>2020-07-22</td>\n",
       "      <td>0.100</td>\n",
       "      <td>9.050000e+02</td>\n",
       "      <td>0.0900</td>\n",
       "      <td>9.010400e+02</td>\n",
       "      <td>0.090000</td>\n",
       "      <td>8.790570e+02</td>\n",
       "    </tr>\n",
       "    <tr>\n",
       "      <th>4</th>\n",
       "      <td>Consumer Non-Durables</td>\n",
       "      <td>2019-01-02</td>\n",
       "      <td>2020-07-22</td>\n",
       "      <td>0.120</td>\n",
       "      <td>6.550000e+02</td>\n",
       "      <td>0.1200</td>\n",
       "      <td>6.641300e+02</td>\n",
       "      <td>0.120000</td>\n",
       "      <td>6.641300e+02</td>\n",
       "    </tr>\n",
       "    <tr>\n",
       "      <th>5</th>\n",
       "      <td>Finance</td>\n",
       "      <td>2019-01-02</td>\n",
       "      <td>2020-07-22</td>\n",
       "      <td>0.250</td>\n",
       "      <td>1.336930e+03</td>\n",
       "      <td>0.2700</td>\n",
       "      <td>1.341080e+03</td>\n",
       "      <td>0.270000</td>\n",
       "      <td>1.341080e+03</td>\n",
       "    </tr>\n",
       "    <tr>\n",
       "      <th>6</th>\n",
       "      <td>Basic Industries</td>\n",
       "      <td>2019-01-02</td>\n",
       "      <td>2020-07-22</td>\n",
       "      <td>0.230</td>\n",
       "      <td>1.601682e+08</td>\n",
       "      <td>0.2300</td>\n",
       "      <td>1.583766e+08</td>\n",
       "      <td>0.230000</td>\n",
       "      <td>1.572494e+08</td>\n",
       "    </tr>\n",
       "    <tr>\n",
       "      <th>7</th>\n",
       "      <td>Capital Goods</td>\n",
       "      <td>2019-01-02</td>\n",
       "      <td>2020-07-22</td>\n",
       "      <td>0.130</td>\n",
       "      <td>4.025000e+03</td>\n",
       "      <td>0.1200</td>\n",
       "      <td>4.037770e+03</td>\n",
       "      <td>-1.230099</td>\n",
       "      <td>4.037770e+03</td>\n",
       "    </tr>\n",
       "    <tr>\n",
       "      <th>8</th>\n",
       "      <td>Technology</td>\n",
       "      <td>2019-01-02</td>\n",
       "      <td>2020-07-22</td>\n",
       "      <td>0.140</td>\n",
       "      <td>2.704000e+03</td>\n",
       "      <td>0.1300</td>\n",
       "      <td>2.736000e+03</td>\n",
       "      <td>0.130000</td>\n",
       "      <td>2.736000e+03</td>\n",
       "    </tr>\n",
       "    <tr>\n",
       "      <th>9</th>\n",
       "      <td>Consumer Services</td>\n",
       "      <td>2019-01-02</td>\n",
       "      <td>2020-07-22</td>\n",
       "      <td>0.100</td>\n",
       "      <td>1.543750e+04</td>\n",
       "      <td>0.1340</td>\n",
       "      <td>1.984375e+04</td>\n",
       "      <td>0.134000</td>\n",
       "      <td>1.984375e+04</td>\n",
       "    </tr>\n",
       "    <tr>\n",
       "      <th>10</th>\n",
       "      <td>Consumer Durables</td>\n",
       "      <td>2019-01-02</td>\n",
       "      <td>2020-07-22</td>\n",
       "      <td>0.320</td>\n",
       "      <td>1.117188e+05</td>\n",
       "      <td>0.3100</td>\n",
       "      <td>1.187500e+05</td>\n",
       "      <td>0.310000</td>\n",
       "      <td>1.187500e+05</td>\n",
       "    </tr>\n",
       "    <tr>\n",
       "      <th>11</th>\n",
       "      <td>Transportation</td>\n",
       "      <td>2019-01-02</td>\n",
       "      <td>2020-07-22</td>\n",
       "      <td>0.080</td>\n",
       "      <td>2.744100e+02</td>\n",
       "      <td>0.0800</td>\n",
       "      <td>2.740400e+02</td>\n",
       "      <td>0.080000</td>\n",
       "      <td>2.740400e+02</td>\n",
       "    </tr>\n",
       "  </tbody>\n",
       "</table>\n",
       "</div>"
      ],
      "text/plain": [
       "                   sector        From          To  Minimum Opening  \\\n",
       "0           Miscellaneous  2019-01-02  2020-07-22            0.147   \n",
       "1             Health Care  2019-01-02  2020-07-22            0.072   \n",
       "2        Public Utilities  2019-01-02  2020-07-22            0.331   \n",
       "3                  Energy  2019-01-02  2020-07-22            0.100   \n",
       "4   Consumer Non-Durables  2019-01-02  2020-07-22            0.120   \n",
       "5                 Finance  2019-01-02  2020-07-22            0.250   \n",
       "6        Basic Industries  2019-01-02  2020-07-22            0.230   \n",
       "7           Capital Goods  2019-01-02  2020-07-22            0.130   \n",
       "8              Technology  2019-01-02  2020-07-22            0.140   \n",
       "9       Consumer Services  2019-01-02  2020-07-22            0.100   \n",
       "10      Consumer Durables  2019-01-02  2020-07-22            0.320   \n",
       "11         Transportation  2019-01-02  2020-07-22            0.080   \n",
       "\n",
       "    Maximum Opening  Minimum Closing  Maximum Closing  \\\n",
       "0      1.059990e+03           0.1361     1.035830e+03   \n",
       "1      1.860000e+05           0.0710     1.870000e+05   \n",
       "2      2.800000e+02           0.3250     2.822200e+02   \n",
       "3      9.050000e+02           0.0900     9.010400e+02   \n",
       "4      6.550000e+02           0.1200     6.641300e+02   \n",
       "5      1.336930e+03           0.2700     1.341080e+03   \n",
       "6      1.601682e+08           0.2300     1.583766e+08   \n",
       "7      4.025000e+03           0.1200     4.037770e+03   \n",
       "8      2.704000e+03           0.1300     2.736000e+03   \n",
       "9      1.543750e+04           0.1340     1.984375e+04   \n",
       "10     1.117188e+05           0.3100     1.187500e+05   \n",
       "11     2.744100e+02           0.0800     2.740400e+02   \n",
       "\n",
       "    Minimum Adjusted Closing  Maximum Adjusted Closing  \n",
       "0                   0.136100              1.035830e+03  \n",
       "1                   0.071000              1.870000e+05  \n",
       "2                   0.325000              2.806739e+02  \n",
       "3                   0.090000              8.790570e+02  \n",
       "4                   0.120000              6.641300e+02  \n",
       "5                   0.270000              1.341080e+03  \n",
       "6                   0.230000              1.572494e+08  \n",
       "7                  -1.230099              4.037770e+03  \n",
       "8                   0.130000              2.736000e+03  \n",
       "9                   0.134000              1.984375e+04  \n",
       "10                  0.310000              1.187500e+05  \n",
       "11                  0.080000              2.740400e+02  "
      ]
     },
     "execution_count": 11,
     "metadata": {},
     "output_type": "execute_result"
    }
   ],
   "source": [
    "data_transf.toPandas()"
   ]
  },
  {
   "cell_type": "code",
   "execution_count": 12,
   "metadata": {},
   "outputs": [
    {
     "data": {
      "text/html": [
       "<div>\n",
       "<style scoped>\n",
       "    .dataframe tbody tr th:only-of-type {\n",
       "        vertical-align: middle;\n",
       "    }\n",
       "\n",
       "    .dataframe tbody tr th {\n",
       "        vertical-align: top;\n",
       "    }\n",
       "\n",
       "    .dataframe thead th {\n",
       "        text-align: right;\n",
       "    }\n",
       "</style>\n",
       "<table border=\"1\" class=\"dataframe\">\n",
       "  <thead>\n",
       "    <tr style=\"text-align: right;\">\n",
       "      <th></th>\n",
       "      <th>industry</th>\n",
       "      <th>avg(open)</th>\n",
       "      <th>avg(close)</th>\n",
       "      <th>avg(adjusted)</th>\n",
       "    </tr>\n",
       "  </thead>\n",
       "  <tbody>\n",
       "    <tr>\n",
       "      <th>0</th>\n",
       "      <td>Finance/Investors Services</td>\n",
       "      <td>5.134402</td>\n",
       "      <td>5.136631</td>\n",
       "      <td>4.991354</td>\n",
       "    </tr>\n",
       "    <tr>\n",
       "      <th>1</th>\n",
       "      <td>Miscellaneous</td>\n",
       "      <td>16.385883</td>\n",
       "      <td>16.359879</td>\n",
       "      <td>16.148959</td>\n",
       "    </tr>\n",
       "    <tr>\n",
       "      <th>2</th>\n",
       "      <td>Investment Bankers/Brokers/Service</td>\n",
       "      <td>58.950581</td>\n",
       "      <td>58.983086</td>\n",
       "      <td>58.157837</td>\n",
       "    </tr>\n",
       "    <tr>\n",
       "      <th>3</th>\n",
       "      <td>Food Distributors</td>\n",
       "      <td>43.274509</td>\n",
       "      <td>43.273178</td>\n",
       "      <td>42.910476</td>\n",
       "    </tr>\n",
       "    <tr>\n",
       "      <th>4</th>\n",
       "      <td>Broadcasting</td>\n",
       "      <td>24.916787</td>\n",
       "      <td>24.917388</td>\n",
       "      <td>24.699102</td>\n",
       "    </tr>\n",
       "    <tr>\n",
       "      <th>...</th>\n",
       "      <td>...</td>\n",
       "      <td>...</td>\n",
       "      <td>...</td>\n",
       "      <td>...</td>\n",
       "    </tr>\n",
       "    <tr>\n",
       "      <th>130</th>\n",
       "      <td>Wholesale Distributors</td>\n",
       "      <td>16.608839</td>\n",
       "      <td>16.602717</td>\n",
       "      <td>16.602717</td>\n",
       "    </tr>\n",
       "    <tr>\n",
       "      <th>131</th>\n",
       "      <td>Electronics Distribution</td>\n",
       "      <td>6.428699</td>\n",
       "      <td>6.430408</td>\n",
       "      <td>6.377569</td>\n",
       "    </tr>\n",
       "    <tr>\n",
       "      <th>132</th>\n",
       "      <td>Tools/Hardware</td>\n",
       "      <td>70.412755</td>\n",
       "      <td>70.475944</td>\n",
       "      <td>69.670351</td>\n",
       "    </tr>\n",
       "    <tr>\n",
       "      <th>133</th>\n",
       "      <td>Tobacco</td>\n",
       "      <td>32.467832</td>\n",
       "      <td>32.455689</td>\n",
       "      <td>32.213047</td>\n",
       "    </tr>\n",
       "    <tr>\n",
       "      <th>134</th>\n",
       "      <td>General Bldg Contractors - Nonresidential Bldgs</td>\n",
       "      <td>13.528546</td>\n",
       "      <td>13.509209</td>\n",
       "      <td>13.509209</td>\n",
       "    </tr>\n",
       "  </tbody>\n",
       "</table>\n",
       "<p>135 rows × 4 columns</p>\n",
       "</div>"
      ],
      "text/plain": [
       "                                            industry  avg(open)  avg(close)  \\\n",
       "0                         Finance/Investors Services   5.134402    5.136631   \n",
       "1                                      Miscellaneous  16.385883   16.359879   \n",
       "2                 Investment Bankers/Brokers/Service  58.950581   58.983086   \n",
       "3                                  Food Distributors  43.274509   43.273178   \n",
       "4                                       Broadcasting  24.916787   24.917388   \n",
       "..                                               ...        ...         ...   \n",
       "130                           Wholesale Distributors  16.608839   16.602717   \n",
       "131                         Electronics Distribution   6.428699    6.430408   \n",
       "132                                   Tools/Hardware  70.412755   70.475944   \n",
       "133                                          Tobacco  32.467832   32.455689   \n",
       "134  General Bldg Contractors - Nonresidential Bldgs  13.528546   13.509209   \n",
       "\n",
       "     avg(adjusted)  \n",
       "0         4.991354  \n",
       "1        16.148959  \n",
       "2        58.157837  \n",
       "3        42.910476  \n",
       "4        24.699102  \n",
       "..             ...  \n",
       "130      16.602717  \n",
       "131       6.377569  \n",
       "132      69.670351  \n",
       "133      32.213047  \n",
       "134      13.509209  \n",
       "\n",
       "[135 rows x 4 columns]"
      ]
     },
     "execution_count": 12,
     "metadata": {},
     "output_type": "execute_result"
    }
   ],
   "source": [
    "data_df = data.select(['industry', 'open', 'close', 'adjusted']).groupBy('industry').mean().toPandas()\n",
    "data_df"
   ]
  },
  {
   "cell_type": "code",
   "execution_count": 13,
   "metadata": {},
   "outputs": [
    {
     "data": {
      "text/plain": [
       "<Axes: >"
      ]
     },
     "execution_count": 13,
     "metadata": {},
     "output_type": "execute_result"
    },
    {
     "data": {
      "image/png": "[encoded data removed]",
      "text/plain": [
       "<Figure size 640x480 with 1 Axes>"
      ]
     },
     "metadata": {},
     "output_type": "display_data"
    }
   ],
   "source": [
    "data_df[['industry', 'avg(open)']].plot()"
   ]
  },
  {
   "cell_type": "code",
   "execution_count": 16,
   "metadata": {},
   "outputs": [],
   "source": [
    "data_df['industry'] = pd.to_numeric(data_df['industry'], errors='coerce')\n"
   ]
  },
  {
   "cell_type": "code",
   "execution_count": 17,
   "metadata": {},
   "outputs": [
    {
     "data": {
      "text/plain": [
       "<Axes: >"
      ]
     },
     "execution_count": 17,
     "metadata": {},
     "output_type": "execute_result"
    },
    {
     "data": {
      "image/png": "[encoded data removed]",
      "text/plain": [
       "<Figure size 640x480 with 2 Axes>"
      ]
     },
     "metadata": {},
     "output_type": "display_data"
    }
   ],
   "source": [
    "import seaborn as sns\n",
    "corr = data_df.corr()\n",
    "sns.heatmap(corr, cmap=\"Blues\", annot=True)"
   ]
  },
  {
   "cell_type": "code",
   "execution_count": null,
   "metadata": {},
   "outputs": [],
   "source": [
    "# Parquet\n",
    "#data.select(['data', 'open', 'close', 'adjusted'])\\\n",
    "#    .write.save('dataset.parquet', format='parquet')"
   ]
  },
  {
   "cell_type": "code",
   "execution_count": null,
   "metadata": {},
   "outputs": [],
   "source": []
  },
  {
   "cell_type": "code",
   "execution_count": null,
   "metadata": {
    "id": "zkSdYUdRGkkk"
   },
   "outputs": [],
   "source": []
  }
 ],
 "metadata": {
  "colab": {
   "authorship_tag": "ABX9TyPRiFrIk3poFvvDKdeo/sex",
   "collapsed_sections": [],
   "include_colab_link": true,
   "name": "Beginners Guide to PySpark.ipynb",
   "provenance": []
  },
  "kernelspec": {
   "display_name": "Python 3 (ipykernel)",
   "language": "python",
   "name": "python3"
  },
  "language_info": {
   "codemirror_mode": {
    "name": "ipython",
    "version": 3
   },
   "file_extension": ".py",
   "mimetype": "text/x-python",
   "name": "python",
   "nbconvert_exporter": "python",
   "pygments_lexer": "ipython3",
   "version": "3.10.0"
  }
 },
 "nbformat": 4,
 "nbformat_minor": 1
}
